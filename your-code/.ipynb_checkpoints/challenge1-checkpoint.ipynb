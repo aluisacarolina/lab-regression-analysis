{
 "cells": [
  {
   "cell_type": "markdown",
   "metadata": {},
   "source": [
    "# Lab: Regression Analysis"
   ]
  },
  {
   "cell_type": "markdown",
   "metadata": {},
   "source": [
    "### Before you start:\n",
    "\n",
    "* Read the README.md file\n",
    "* Comment as much as you can and use the resources (README.md file) \n",
    "\n",
    "Happy learning!"
   ]
  },
  {
   "cell_type": "markdown",
   "metadata": {},
   "source": [
    "## Challenge 1\n",
    "I work at a coding bootcamp, and I have developed a theory that the younger my students are, the more often they are late to class. In order to test my hypothesis, I have collected some data in the following table:\n",
    "\n",
    "| StudentID | Age | Tardies |\n",
    "|--------|-----|------------|\n",
    "| 1      | 17  | 10         |\n",
    "| 2      | 51  | 1          |\n",
    "| 3      | 27  | 5          |\n",
    "| 4      | 21  | 9         |\n",
    "| 5      | 36  |  4         |\n",
    "| 6      | 48  |  2         |\n",
    "| 7      | 19  |  9         |\n",
    "| 8      | 26  | 6          |\n",
    "| 9      | 54  |  0         |\n",
    "| 10     | 30  |  3         |"
   ]
  },
  {
   "cell_type": "markdown",
   "metadata": {},
   "source": [
    "Use this command to create a dataframe with the data provided in the table. \n",
    "~~~~\n",
    "student_data = pd.DataFrame({'X': [x_values], 'Y': [y_values]})\n",
    "~~~~"
   ]
  },
  {
   "cell_type": "code",
   "execution_count": 119,
   "metadata": {},
   "outputs": [],
   "source": [
    "import pandas as pd"
   ]
  },
  {
   "cell_type": "code",
   "execution_count": 120,
   "metadata": {},
   "outputs": [],
   "source": [
    "students = pd.DataFrame({'SudentID':[1,2,3,4,5,6,7,8,9,10],\n",
    "                             'Age': [17,51,27,21,36,48,19,26,54,30], \n",
    "                             'Tardies': [10,1,5,9,4,2,9,6,0,3]})"
   ]
  },
  {
   "cell_type": "markdown",
   "metadata": {},
   "source": [
    "Draw a dispersion diagram (scatter plot) for the data."
   ]
  },
  {
   "cell_type": "code",
   "execution_count": 121,
   "metadata": {},
   "outputs": [
    {
     "data": {
      "text/plain": [
       "<Axes: xlabel='Age', ylabel='Tardies'>"
      ]
     },
     "execution_count": 121,
     "metadata": {},
     "output_type": "execute_result"
    },
    {
     "data": {
      "image/png": "[encoded data removed]",
      "text/plain": [
       "<Figure size 640x480 with 1 Axes>"
      ]
     },
     "metadata": {},
     "output_type": "display_data"
    }
   ],
   "source": [
    "import seaborn as sns\n",
    "sns.scatterplot(data=students, x='Age', y='Tardies')\n"
   ]
  },
  {
   "cell_type": "markdown",
   "metadata": {},
   "source": [
    "Do you see a trend? Can you make any hypotheses about the relationship between age and number of tardies?"
   ]
  },
  {
   "cell_type": "markdown",
   "metadata": {},
   "source": [
    "It looks like that younger students are more likely to arrive late to class, whereas older students tend to have fewer tardies.\n"
   ]
  },
  {
   "cell_type": "markdown",
   "metadata": {},
   "source": [
    "Calculate the covariance and correlation of the variables in your plot. What is the difference between these two measures? Compare their values. What do they tell you in this case? Add your responses as comments after your code."
   ]
  },
  {
   "cell_type": "code",
   "execution_count": 122,
   "metadata": {},
   "outputs": [
    {
     "data": {
      "text/html": [
       "<style type=\"text/css\">\n",
       "#T_2fe94_row0_col0, #T_2fe94_row1_col1, #T_2fe94_row2_col2 {\n",
       "  background-color: #b40426;\n",
       "  color: #f1f1f1;\n",
       "}\n",
       "#T_2fe94_row0_col1 {\n",
       "  background-color: #efcfbf;\n",
       "  color: #000000;\n",
       "}\n",
       "#T_2fe94_row0_col2 {\n",
       "  background-color: #a1c0ff;\n",
       "  color: #000000;\n",
       "}\n",
       "#T_2fe94_row1_col0 {\n",
       "  background-color: #bfd3f6;\n",
       "  color: #000000;\n",
       "}\n",
       "#T_2fe94_row1_col2, #T_2fe94_row2_col0, #T_2fe94_row2_col1 {\n",
       "  background-color: #3b4cc0;\n",
       "  color: #f1f1f1;\n",
       "}\n",
       "</style>\n",
       "<table id=\"T_2fe94\">\n",
       "  <thead>\n",
       "    <tr>\n",
       "      <th class=\"blank level0\" >&nbsp;</th>\n",
       "      <th id=\"T_2fe94_level0_col0\" class=\"col_heading level0 col0\" >SudentID</th>\n",
       "      <th id=\"T_2fe94_level0_col1\" class=\"col_heading level0 col1\" >Age</th>\n",
       "      <th id=\"T_2fe94_level0_col2\" class=\"col_heading level0 col2\" >Tardies</th>\n",
       "    </tr>\n",
       "  </thead>\n",
       "  <tbody>\n",
       "    <tr>\n",
       "      <th id=\"T_2fe94_level0_row0\" class=\"row_heading level0 row0\" >SudentID</th>\n",
       "      <td id=\"T_2fe94_row0_col0\" class=\"data row0 col0\" >1.000000</td>\n",
       "      <td id=\"T_2fe94_row0_col1\" class=\"data row0 col1\" >0.186190</td>\n",
       "      <td id=\"T_2fe94_row0_col2\" class=\"data row0 col2\" >-0.347113</td>\n",
       "    </tr>\n",
       "    <tr>\n",
       "      <th id=\"T_2fe94_level0_row1\" class=\"row_heading level0 row1\" >Age</th>\n",
       "      <td id=\"T_2fe94_row1_col0\" class=\"data row1 col0\" >0.186190</td>\n",
       "      <td id=\"T_2fe94_row1_col1\" class=\"data row1 col1\" >1.000000</td>\n",
       "      <td id=\"T_2fe94_row1_col2\" class=\"data row1 col2\" >-0.939163</td>\n",
       "    </tr>\n",
       "    <tr>\n",
       "      <th id=\"T_2fe94_level0_row2\" class=\"row_heading level0 row2\" >Tardies</th>\n",
       "      <td id=\"T_2fe94_row2_col0\" class=\"data row2 col0\" >-0.347113</td>\n",
       "      <td id=\"T_2fe94_row2_col1\" class=\"data row2 col1\" >-0.939163</td>\n",
       "      <td id=\"T_2fe94_row2_col2\" class=\"data row2 col2\" >1.000000</td>\n",
       "    </tr>\n",
       "  </tbody>\n",
       "</table>\n"
      ],
      "text/plain": [
       "<pandas.io.formats.style.Styler at 0x3095d8f10>"
      ]
     },
     "execution_count": 122,
     "metadata": {},
     "output_type": "execute_result"
    }
   ],
   "source": [
    "corr= students.corr()\n",
    "corr.style.background_gradient(cmap='coolwarm')"
   ]
  },
  {
   "cell_type": "markdown",
   "metadata": {},
   "source": [
    "Build a regression model for this data. What will be your outcome variable? What type of regression are you using? Add your responses as comments after your code."
   ]
  },
  {
   "cell_type": "code",
   "execution_count": 123,
   "metadata": {},
   "outputs": [
    {
     "data": {
      "text/plain": [
       "12.888803363135771"
      ]
     },
     "metadata": {},
     "output_type": "display_data"
    },
    {
     "data": {
      "text/plain": [
       "array([-0.24282077])"
      ]
     },
     "metadata": {},
     "output_type": "display_data"
    }
   ],
   "source": [
    "from sklearn import linear_model\n",
    "\n",
    "# Age is the independent variable in this case (what we think helps us predict Tardies)\n",
    "x= students[['Age']] \n",
    "\n",
    "# Tardies is the dependent variable (what we want to predict/measure)\n",
    "y= students['Tardies'] \n",
    "\n",
    "# Create a linear regression model\n",
    "model = linear_model.LinearRegression()\n",
    "\n",
    "# we now \"fit\" (a.k.a. \"train\") the model in our data\n",
    "# linear regression picks the line (i.e. the intercept and the gradient) that best \"fits\" our data\n",
    "# we will get to the meaning of \"fitting the data\" in a second\n",
    "result = model.fit(x,y)\n",
    "\n",
    "display(result.intercept_)\n",
    "display(result.coef_)\n"
   ]
  },
  {
   "cell_type": "markdown",
   "metadata": {},
   "source": [
    "Plot your regression model on your scatter plot."
   ]
  },
  {
   "cell_type": "code",
   "execution_count": 124,
   "metadata": {},
   "outputs": [
    {
     "data": {
      "image/png": "[encoded data removed]",
      "text/plain": [
       "<Figure size 640x480 with 1 Axes>"
      ]
     },
     "metadata": {},
     "output_type": "display_data"
    }
   ],
   "source": [
    "regression_line = result.intercept_ + result.coef_[0]*x\n",
    "plt.plot(x, regression_line, c = 'orange')\n",
    "plt.scatter(x,y)\n",
    "plt.show()"
   ]
  },
  {
   "cell_type": "markdown",
   "metadata": {},
   "source": [
    "Interpret the results of your model. What can conclusions can you draw from your model and how confident in these conclusions are you? Can we say that age is a good predictor of tardiness? Add your responses as comments after your code."
   ]
  },
  {
   "cell_type": "code",
   "execution_count": 125,
   "metadata": {},
   "outputs": [
    {
     "name": "stdout",
     "output_type": "stream",
     "text": [
      "Mean squared error (MSE): 1.3319201847356268\n",
      "Coefficient of determination (R²): 0.8820265558250109\n"
     ]
    }
   ],
   "source": [
    "from sklearn.metrics import mean_squared_error\n",
    "print(\"Mean squared error (MSE):\", mean_squared_error(result.predict(x),y))\n",
    "print(\"Coefficient of determination (R²):\", model.score(x, y))"
   ]
  },
  {
   "cell_type": "markdown",
   "metadata": {},
   "source": [
    "The moderate to high R² value suggests that age is a reasonably good predictor of tardiness, capturing a significant\n",
    "     portion of its variance.\n",
    "\n",
    "Based on the model output, age appears to be a significant predictor of tardiness among students.\n",
    "    \n"
   ]
  },
  {
   "cell_type": "markdown",
   "metadata": {},
   "source": [
    "## Challenge 2\n",
    "For the second part of this lab, we will use the vehicles.csv data set. You can find a copy of the dataset in the git hub folder. This dataset includes variables related to vehicle characteristics, including the model, make, and energy efficiency standards, as well as each car's CO2 emissions. As discussed in class the goal of this exercise is to predict vehicles' CO2 emissions based on several independent variables. "
   ]
  },
  {
   "cell_type": "code",
   "execution_count": 150,
   "metadata": {},
   "outputs": [
    {
     "data": {
      "text/html": [
       "<div>\n",
       "<style scoped>\n",
       "    .dataframe tbody tr th:only-of-type {\n",
       "        vertical-align: middle;\n",
       "    }\n",
       "\n",
       "    .dataframe tbody tr th {\n",
       "        vertical-align: top;\n",
       "    }\n",
       "\n",
       "    .dataframe thead th {\n",
       "        text-align: right;\n",
       "    }\n",
       "</style>\n",
       "<table border=\"1\" class=\"dataframe\">\n",
       "  <thead>\n",
       "    <tr style=\"text-align: right;\">\n",
       "      <th></th>\n",
       "      <th>Make</th>\n",
       "      <th>Model</th>\n",
       "      <th>Year</th>\n",
       "      <th>Engine Displacement</th>\n",
       "      <th>Cylinders</th>\n",
       "      <th>Transmission</th>\n",
       "      <th>Drivetrain</th>\n",
       "      <th>Vehicle Class</th>\n",
       "      <th>Fuel Type</th>\n",
       "      <th>Fuel Barrels/Year</th>\n",
       "      <th>City MPG</th>\n",
       "      <th>Highway MPG</th>\n",
       "      <th>Combined MPG</th>\n",
       "      <th>CO2 Emission Grams/Mile</th>\n",
       "      <th>Fuel Cost/Year</th>\n",
       "    </tr>\n",
       "  </thead>\n",
       "  <tbody>\n",
       "    <tr>\n",
       "      <th>0</th>\n",
       "      <td>AM General</td>\n",
       "      <td>DJ Po Vehicle 2WD</td>\n",
       "      <td>1984</td>\n",
       "      <td>2.5</td>\n",
       "      <td>4.0</td>\n",
       "      <td>Automatic 3-spd</td>\n",
       "      <td>2-Wheel Drive</td>\n",
       "      <td>Special Purpose Vehicle 2WD</td>\n",
       "      <td>Regular</td>\n",
       "      <td>19.388824</td>\n",
       "      <td>18</td>\n",
       "      <td>17</td>\n",
       "      <td>17</td>\n",
       "      <td>522.764706</td>\n",
       "      <td>1950</td>\n",
       "    </tr>\n",
       "    <tr>\n",
       "      <th>1</th>\n",
       "      <td>AM General</td>\n",
       "      <td>FJ8c Post Office</td>\n",
       "      <td>1984</td>\n",
       "      <td>4.2</td>\n",
       "      <td>6.0</td>\n",
       "      <td>Automatic 3-spd</td>\n",
       "      <td>2-Wheel Drive</td>\n",
       "      <td>Special Purpose Vehicle 2WD</td>\n",
       "      <td>Regular</td>\n",
       "      <td>25.354615</td>\n",
       "      <td>13</td>\n",
       "      <td>13</td>\n",
       "      <td>13</td>\n",
       "      <td>683.615385</td>\n",
       "      <td>2550</td>\n",
       "    </tr>\n",
       "    <tr>\n",
       "      <th>2</th>\n",
       "      <td>AM General</td>\n",
       "      <td>Post Office DJ5 2WD</td>\n",
       "      <td>1985</td>\n",
       "      <td>2.5</td>\n",
       "      <td>4.0</td>\n",
       "      <td>Automatic 3-spd</td>\n",
       "      <td>Rear-Wheel Drive</td>\n",
       "      <td>Special Purpose Vehicle 2WD</td>\n",
       "      <td>Regular</td>\n",
       "      <td>20.600625</td>\n",
       "      <td>16</td>\n",
       "      <td>17</td>\n",
       "      <td>16</td>\n",
       "      <td>555.437500</td>\n",
       "      <td>2100</td>\n",
       "    </tr>\n",
       "    <tr>\n",
       "      <th>3</th>\n",
       "      <td>AM General</td>\n",
       "      <td>Post Office DJ8 2WD</td>\n",
       "      <td>1985</td>\n",
       "      <td>4.2</td>\n",
       "      <td>6.0</td>\n",
       "      <td>Automatic 3-spd</td>\n",
       "      <td>Rear-Wheel Drive</td>\n",
       "      <td>Special Purpose Vehicle 2WD</td>\n",
       "      <td>Regular</td>\n",
       "      <td>25.354615</td>\n",
       "      <td>13</td>\n",
       "      <td>13</td>\n",
       "      <td>13</td>\n",
       "      <td>683.615385</td>\n",
       "      <td>2550</td>\n",
       "    </tr>\n",
       "    <tr>\n",
       "      <th>4</th>\n",
       "      <td>ASC Incorporated</td>\n",
       "      <td>GNX</td>\n",
       "      <td>1987</td>\n",
       "      <td>3.8</td>\n",
       "      <td>6.0</td>\n",
       "      <td>Automatic 4-spd</td>\n",
       "      <td>Rear-Wheel Drive</td>\n",
       "      <td>Midsize Cars</td>\n",
       "      <td>Premium</td>\n",
       "      <td>20.600625</td>\n",
       "      <td>14</td>\n",
       "      <td>21</td>\n",
       "      <td>16</td>\n",
       "      <td>555.437500</td>\n",
       "      <td>2550</td>\n",
       "    </tr>\n",
       "  </tbody>\n",
       "</table>\n",
       "</div>"
      ],
      "text/plain": [
       "               Make                Model  Year  Engine Displacement  \\\n",
       "0        AM General    DJ Po Vehicle 2WD  1984                  2.5   \n",
       "1        AM General     FJ8c Post Office  1984                  4.2   \n",
       "2        AM General  Post Office DJ5 2WD  1985                  2.5   \n",
       "3        AM General  Post Office DJ8 2WD  1985                  4.2   \n",
       "4  ASC Incorporated                  GNX  1987                  3.8   \n",
       "\n",
       "   Cylinders     Transmission        Drivetrain                Vehicle Class  \\\n",
       "0        4.0  Automatic 3-spd     2-Wheel Drive  Special Purpose Vehicle 2WD   \n",
       "1        6.0  Automatic 3-spd     2-Wheel Drive  Special Purpose Vehicle 2WD   \n",
       "2        4.0  Automatic 3-spd  Rear-Wheel Drive  Special Purpose Vehicle 2WD   \n",
       "3        6.0  Automatic 3-spd  Rear-Wheel Drive  Special Purpose Vehicle 2WD   \n",
       "4        6.0  Automatic 4-spd  Rear-Wheel Drive                 Midsize Cars   \n",
       "\n",
       "  Fuel Type  Fuel Barrels/Year  City MPG  Highway MPG  Combined MPG  \\\n",
       "0   Regular          19.388824        18           17            17   \n",
       "1   Regular          25.354615        13           13            13   \n",
       "2   Regular          20.600625        16           17            16   \n",
       "3   Regular          25.354615        13           13            13   \n",
       "4   Premium          20.600625        14           21            16   \n",
       "\n",
       "   CO2 Emission Grams/Mile  Fuel Cost/Year  \n",
       "0               522.764706            1950  \n",
       "1               683.615385            2550  \n",
       "2               555.437500            2100  \n",
       "3               683.615385            2550  \n",
       "4               555.437500            2550  "
      ]
     },
     "execution_count": 150,
     "metadata": {},
     "output_type": "execute_result"
    }
   ],
   "source": [
    "vehicles=pd.read_csv('vehicles.csv')\n",
    "vehicles.head()"
   ]
  },
  {
   "cell_type": "markdown",
   "metadata": {},
   "source": [
    "Let's use the following variables for our analysis: Year, Cylinders, Fuel Barrels/Year, Combined MPG, and Fuel Cost/Year. We will use 'CO2 Emission Grams/Mile' as our outcome variable. \n",
    "\n",
    "Calculate the correlations between each of these variables and the outcome. Which variable do you think will be the most important in determining CO2 emissions? Which provides the least amount of helpful information for determining CO2 emissions? Add your responses as comments after your code."
   ]
  },
  {
   "cell_type": "code",
   "execution_count": 151,
   "metadata": {},
   "outputs": [
    {
     "data": {
      "text/html": [
       "<style type=\"text/css\">\n",
       "#T_a11f0_row0_col0, #T_a11f0_row1_col1, #T_a11f0_row2_col2, #T_a11f0_row3_col3, #T_a11f0_row4_col4, #T_a11f0_row5_col5 {\n",
       "  background-color: #b40426;\n",
       "  color: #f1f1f1;\n",
       "}\n",
       "#T_a11f0_row0_col1 {\n",
       "  background-color: #d2dbe8;\n",
       "  color: #000000;\n",
       "}\n",
       "#T_a11f0_row0_col2 {\n",
       "  background-color: #b3cdfb;\n",
       "  color: #000000;\n",
       "}\n",
       "#T_a11f0_row0_col3 {\n",
       "  background-color: #f0cdbb;\n",
       "  color: #000000;\n",
       "}\n",
       "#T_a11f0_row0_col4 {\n",
       "  background-color: #c5d6f2;\n",
       "  color: #000000;\n",
       "}\n",
       "#T_a11f0_row0_col5 {\n",
       "  background-color: #b5cdfa;\n",
       "  color: #000000;\n",
       "}\n",
       "#T_a11f0_row1_col0 {\n",
       "  background-color: #8caffe;\n",
       "  color: #000000;\n",
       "}\n",
       "#T_a11f0_row1_col2 {\n",
       "  background-color: #e0654f;\n",
       "  color: #f1f1f1;\n",
       "}\n",
       "#T_a11f0_row1_col3 {\n",
       "  background-color: #5f7fe8;\n",
       "  color: #f1f1f1;\n",
       "}\n",
       "#T_a11f0_row1_col4 {\n",
       "  background-color: #dc5d4a;\n",
       "  color: #f1f1f1;\n",
       "}\n",
       "#T_a11f0_row1_col5 {\n",
       "  background-color: #de614d;\n",
       "  color: #f1f1f1;\n",
       "}\n",
       "#T_a11f0_row2_col0, #T_a11f0_row3_col1, #T_a11f0_row3_col2, #T_a11f0_row3_col4, #T_a11f0_row3_col5, #T_a11f0_row5_col0, #T_a11f0_row5_col3 {\n",
       "  background-color: #3b4cc0;\n",
       "  color: #f1f1f1;\n",
       "}\n",
       "#T_a11f0_row2_col1 {\n",
       "  background-color: #e46e56;\n",
       "  color: #f1f1f1;\n",
       "}\n",
       "#T_a11f0_row2_col3 {\n",
       "  background-color: #3d50c3;\n",
       "  color: #f1f1f1;\n",
       "}\n",
       "#T_a11f0_row2_col4, #T_a11f0_row4_col2 {\n",
       "  background-color: #c43032;\n",
       "  color: #f1f1f1;\n",
       "}\n",
       "#T_a11f0_row2_col5, #T_a11f0_row5_col2 {\n",
       "  background-color: #b50927;\n",
       "  color: #f1f1f1;\n",
       "}\n",
       "#T_a11f0_row3_col0 {\n",
       "  background-color: #afcafc;\n",
       "  color: #000000;\n",
       "}\n",
       "#T_a11f0_row4_col0 {\n",
       "  background-color: #5b7ae5;\n",
       "  color: #f1f1f1;\n",
       "}\n",
       "#T_a11f0_row4_col1 {\n",
       "  background-color: #df634e;\n",
       "  color: #f1f1f1;\n",
       "}\n",
       "#T_a11f0_row4_col3 {\n",
       "  background-color: #4257c9;\n",
       "  color: #f1f1f1;\n",
       "}\n",
       "#T_a11f0_row4_col5, #T_a11f0_row5_col4 {\n",
       "  background-color: #c12b30;\n",
       "  color: #f1f1f1;\n",
       "}\n",
       "#T_a11f0_row5_col1 {\n",
       "  background-color: #e36b54;\n",
       "  color: #f1f1f1;\n",
       "}\n",
       "</style>\n",
       "<table id=\"T_a11f0\">\n",
       "  <thead>\n",
       "    <tr>\n",
       "      <th class=\"blank level0\" >&nbsp;</th>\n",
       "      <th id=\"T_a11f0_level0_col0\" class=\"col_heading level0 col0\" >Year</th>\n",
       "      <th id=\"T_a11f0_level0_col1\" class=\"col_heading level0 col1\" >Cylinders</th>\n",
       "      <th id=\"T_a11f0_level0_col2\" class=\"col_heading level0 col2\" >Fuel Barrels/Year</th>\n",
       "      <th id=\"T_a11f0_level0_col3\" class=\"col_heading level0 col3\" >Combined MPG</th>\n",
       "      <th id=\"T_a11f0_level0_col4\" class=\"col_heading level0 col4\" >Fuel Cost/Year</th>\n",
       "      <th id=\"T_a11f0_level0_col5\" class=\"col_heading level0 col5\" >CO2 Emission Grams/Mile</th>\n",
       "    </tr>\n",
       "  </thead>\n",
       "  <tbody>\n",
       "    <tr>\n",
       "      <th id=\"T_a11f0_level0_row0\" class=\"row_heading level0 row0\" >Year</th>\n",
       "      <td id=\"T_a11f0_row0_col0\" class=\"data row0 col0\" >1.000000</td>\n",
       "      <td id=\"T_a11f0_row0_col1\" class=\"data row0 col1\" >0.082469</td>\n",
       "      <td id=\"T_a11f0_row0_col2\" class=\"data row0 col2\" >-0.221084</td>\n",
       "      <td id=\"T_a11f0_row0_col3\" class=\"data row0 col3\" >0.204751</td>\n",
       "      <td id=\"T_a11f0_row0_col4\" class=\"data row0 col4\" >-0.091913</td>\n",
       "      <td id=\"T_a11f0_row0_col5\" class=\"data row0 col5\" >-0.222300</td>\n",
       "    </tr>\n",
       "    <tr>\n",
       "      <th id=\"T_a11f0_level0_row1\" class=\"row_heading level0 row1\" >Cylinders</th>\n",
       "      <td id=\"T_a11f0_row1_col0\" class=\"data row1 col0\" >0.082469</td>\n",
       "      <td id=\"T_a11f0_row1_col1\" class=\"data row1 col1\" >1.000000</td>\n",
       "      <td id=\"T_a11f0_row1_col2\" class=\"data row1 col2\" >0.739517</td>\n",
       "      <td id=\"T_a11f0_row1_col3\" class=\"data row1 col3\" >-0.698648</td>\n",
       "      <td id=\"T_a11f0_row1_col4\" class=\"data row1 col4\" >0.778153</td>\n",
       "      <td id=\"T_a11f0_row1_col5\" class=\"data row1 col5\" >0.752393</td>\n",
       "    </tr>\n",
       "    <tr>\n",
       "      <th id=\"T_a11f0_level0_row2\" class=\"row_heading level0 row2\" >Fuel Barrels/Year</th>\n",
       "      <td id=\"T_a11f0_row2_col0\" class=\"data row2 col0\" >-0.221084</td>\n",
       "      <td id=\"T_a11f0_row2_col1\" class=\"data row2 col1\" >0.739517</td>\n",
       "      <td id=\"T_a11f0_row2_col2\" class=\"data row2 col2\" >1.000000</td>\n",
       "      <td id=\"T_a11f0_row2_col3\" class=\"data row2 col3\" >-0.909743</td>\n",
       "      <td id=\"T_a11f0_row2_col4\" class=\"data row2 col4\" >0.916208</td>\n",
       "      <td id=\"T_a11f0_row2_col5\" class=\"data row2 col5\" >0.986189</td>\n",
       "    </tr>\n",
       "    <tr>\n",
       "      <th id=\"T_a11f0_level0_row3\" class=\"row_heading level0 row3\" >Combined MPG</th>\n",
       "      <td id=\"T_a11f0_row3_col0\" class=\"data row3 col0\" >0.204751</td>\n",
       "      <td id=\"T_a11f0_row3_col1\" class=\"data row3 col1\" >-0.698648</td>\n",
       "      <td id=\"T_a11f0_row3_col2\" class=\"data row3 col2\" >-0.909743</td>\n",
       "      <td id=\"T_a11f0_row3_col3\" class=\"data row3 col3\" >1.000000</td>\n",
       "      <td id=\"T_a11f0_row3_col4\" class=\"data row3 col4\" >-0.875185</td>\n",
       "      <td id=\"T_a11f0_row3_col5\" class=\"data row3 col5\" >-0.926229</td>\n",
       "    </tr>\n",
       "    <tr>\n",
       "      <th id=\"T_a11f0_level0_row4\" class=\"row_heading level0 row4\" >Fuel Cost/Year</th>\n",
       "      <td id=\"T_a11f0_row4_col0\" class=\"data row4 col0\" >-0.091913</td>\n",
       "      <td id=\"T_a11f0_row4_col1\" class=\"data row4 col1\" >0.778153</td>\n",
       "      <td id=\"T_a11f0_row4_col2\" class=\"data row4 col2\" >0.916208</td>\n",
       "      <td id=\"T_a11f0_row4_col3\" class=\"data row4 col3\" >-0.875185</td>\n",
       "      <td id=\"T_a11f0_row4_col4\" class=\"data row4 col4\" >1.000000</td>\n",
       "      <td id=\"T_a11f0_row4_col5\" class=\"data row4 col5\" >0.930865</td>\n",
       "    </tr>\n",
       "    <tr>\n",
       "      <th id=\"T_a11f0_level0_row5\" class=\"row_heading level0 row5\" >CO2 Emission Grams/Mile</th>\n",
       "      <td id=\"T_a11f0_row5_col0\" class=\"data row5 col0\" >-0.222300</td>\n",
       "      <td id=\"T_a11f0_row5_col1\" class=\"data row5 col1\" >0.752393</td>\n",
       "      <td id=\"T_a11f0_row5_col2\" class=\"data row5 col2\" >0.986189</td>\n",
       "      <td id=\"T_a11f0_row5_col3\" class=\"data row5 col3\" >-0.926229</td>\n",
       "      <td id=\"T_a11f0_row5_col4\" class=\"data row5 col4\" >0.930865</td>\n",
       "      <td id=\"T_a11f0_row5_col5\" class=\"data row5 col5\" >1.000000</td>\n",
       "    </tr>\n",
       "  </tbody>\n",
       "</table>\n"
      ],
      "text/plain": [
       "<pandas.io.formats.style.Styler at 0x13dc577d0>"
      ]
     },
     "execution_count": 151,
     "metadata": {},
     "output_type": "execute_result"
    }
   ],
   "source": [
    "# Correlation matrix\n",
    "columns = vehicles[['Year','Cylinders','Fuel Barrels/Year','Combined MPG','Fuel Cost/Year', 'CO2 Emission Grams/Mile']]\n",
    "corr_matrix = columns.corr()\n",
    "corr_matrix.style.background_gradient(cmap='coolwarm')"
   ]
  },
  {
   "cell_type": "markdown",
   "metadata": {},
   "source": [
    "CO2 Emission Grams/Mile, which it's going to be our outcome variable, is highly correlated with Fuel Cost/Year, Fuel Barrels/Year and Combined MPG.\n",
    "Vehicles that consume more fuel are less efficient and thus emit more CO2, which explains the positive correlation with Fuel Cost/Year and Fuel Barrels/Year. Conversely, more fuel-efficient vehicles (higher MPG) emit less CO2, leading to the negative correlation with Combined MPG."
   ]
  },
  {
   "cell_type": "markdown",
   "metadata": {},
   "source": [
    "Build a regression model for this data. What type of regression are you using? Add your responses as comments after your code."
   ]
  },
  {
   "cell_type": "code",
   "execution_count": 161,
   "metadata": {},
   "outputs": [],
   "source": [
    "# Your response here. \n",
    "x_vechicles= vehicles[['Year','Cylinders','Fuel Barrels/Year','Combined MPG','Fuel Cost/Year']] # predictor\n",
    "y_vechicles= vehicles['CO2 Emission Grams/Mile'] # outcome\n",
    "\n",
    "# Create a linear regression model\n",
    "model = linear_model.LinearRegression()\n",
    "result = model.fit(x_vechicles,y_vechicles) # Fit the model\n",
    "\n",
    "y_pred_vechicles= result.predict(x_vechicles) "
   ]
  },
  {
   "cell_type": "markdown",
   "metadata": {},
   "source": [
    "- Using a Multiple Linear Regression model, which is suitable for predicting an outcome variable based on multiple predictors.\n",
    "- This model type is chosen because it allows to evaluate the impact of several predictors simultaneously while considering their individual contributions."
   ]
  },
  {
   "cell_type": "markdown",
   "metadata": {},
   "source": [
    "Print your regression summary, and interpret the results. What are the most important varibles in your model and why? What can conclusions can you draw from your model and how confident in these conclusions are you? Add your responses as comments after your code."
   ]
  },
  {
   "cell_type": "code",
   "execution_count": 163,
   "metadata": {},
   "outputs": [
    {
     "name": "stdout",
     "output_type": "stream",
     "text": [
      "Coefficients: [-0.32061673  1.87879976 19.05292507 -3.04039938  0.03230948]\n",
      "Intercept: 769.8882836465344\n",
      "Mean squared error (MSE): 271.11965507029964\n",
      "Coefficient of determination (R²): 0.9808734920269122\n"
     ]
    }
   ],
   "source": [
    "# Your response here. \n",
    "print(\"Coefficients:\", result.coef_)\n",
    "print(\"Intercept:\", result.intercept_)\n",
    "\n",
    "print(\"Mean squared error (MSE):\", mean_squared_error(y_vechicles, y_pred_vechicles))\n",
    "print(\"Coefficient of determination (R²):\", result.score(x_vechicles, y_vechicles))"
   ]
  },
  {
   "cell_type": "markdown",
   "metadata": {},
   "source": [
    "Interpretation of Results:\n",
    "- The coefficients array corresponds to the influence of each variable\n",
    "- A positive coefficient for a variable indicates a direct relationship with the CO2 emissions, while a negative coefficient indicates an inverse relationship.\n",
    "- The R-squared value tells us the proportion of variance in the dependent variable that is predictable from the independent variables.\n",
    "\n",
    "Most Important Variables:\n",
    "- 'Fuel Barrels/Year' shows the highest coefficient in magnitude, suggesting it has the most significant impact on CO2 emissions.\n",
    "-  'Year' and 'Fuel Cost/Year', on the other hand, are very close to zero, suggesting they have less impact on predicting CO2 emissions.\n",
    "\n",
    "Confidence and Conclusions:\n",
    "- The R-squared value is high, and very close to 1, which suggests that the model explains a significant portion of the variability in CO2 emissions.\n",
    "- Confidence in this model depends on the R-squared value and the MSE. \n",
    "- Considering MSE is in sqaured units, calculating its sqrt allows us to have a better idea of its magnitude (cell below)\n",
    "- An RMSE of 16.47 grams/mile, while considered in the context of the range of CO2 emissions, seems relatively small. \n",
    "This suggests that the model's predictions will generally be close to the actual values."
   ]
  },
  {
   "cell_type": "markdown",
   "metadata": {},
   "source": [
    "## Challenge 2: Error Analysis"
   ]
  },
  {
   "cell_type": "markdown",
   "metadata": {},
   "source": [
    "I am suspicious about the last few parties I have thrown: it seems that the more people I invite the more people are unable to attend. To know if my hunch is supported by data, I have decided to do an analysis. I have collected my data in the table below, where X is the number of people I invited, and Y is the number of people who attended. \n",
    "\n",
    "|  X |  Y |\n",
    "|----|----|\n",
    "| 1  |  1 |\n",
    "| 3  |  2 |\n",
    "| 4  |  4 |\n",
    "| 6  |  4 |\n",
    "| 8  |  5 |\n",
    "| 9  |  7 |\n",
    "| 11 |  8 |\n",
    "| 14 |  13 |"
   ]
  },
  {
   "cell_type": "markdown",
   "metadata": {},
   "source": [
    "We want to know if the relationship modeled by the two random variables is linear or not, and therefore if it is appropriate to model it with a linear regression. \n",
    "First, build a dataframe with the data. "
   ]
  },
  {
   "cell_type": "code",
   "execution_count": 131,
   "metadata": {},
   "outputs": [],
   "source": [
    "parties= pd.DataFrame({'X':[1,3,4,6,8,9,11,14],\n",
    "                             'Y': [1,2,4,4,5,7,8,13]})"
   ]
  },
  {
   "cell_type": "markdown",
   "metadata": {},
   "source": [
    "Draw a dispersion diagram (scatter plot) for the data, and fit a regression line."
   ]
  },
  {
   "cell_type": "code",
   "execution_count": 132,
   "metadata": {},
   "outputs": [
    {
     "data": {
      "image/png": "[encoded data removed]",
      "text/plain": [
       "<Figure size 640x480 with 1 Axes>"
      ]
     },
     "metadata": {},
     "output_type": "display_data"
    }
   ],
   "source": [
    "x = parties[['X']]\n",
    "y = parties['Y']\n",
    "result = model.fit(x,y)\n",
    "regression_line = result.intercept_ + result.coef_[0]*x\n",
    "\n",
    "plt.scatter('X', 'Y', data=parties, color='brown', marker='*',label='Data Collected')\n",
    "plt.plot(x,regression_line, color='orange',label='Fitted Line')\n",
    "plt.legend()\n",
    "plt.grid(True)\n",
    "\n",
    "plt.title(\"Scatter Plot with Linear Regression Line\")\n",
    "plt.xlabel(\"People invited\")\n",
    "plt.ylabel(\"People who attended\")\n",
    "plt.show()\n"
   ]
  },
  {
   "cell_type": "markdown",
   "metadata": {},
   "source": [
    "What do you see? What does this plot tell you about the likely relationship between the variables? Print the results from your regression."
   ]
  },
  {
   "cell_type": "code",
   "execution_count": 133,
   "metadata": {},
   "outputs": [
    {
     "name": "stdout",
     "output_type": "stream",
     "text": [
      "Coefficients:0.8484848484848482\n",
      "Intercept:-0.43939393939393767\n",
      "Mean squared error (MSE):0.8712121212121209\n",
      "Coefficient of determination (R²):0.9316696375519905\n"
     ]
    }
   ],
   "source": [
    "y_pred = result.predict(x)\n",
    "\n",
    "print(\"Coefficients:{}\".format(result.coef_[0]))\n",
    "print(\"Intercept:{}\".format(result.intercept_))\n",
    "print(\"Mean squared error (MSE):{}\".format(mean_squared_error(y, y_pred)))\n",
    "print(\"Coefficient of determination (R²):{}\".format(result.score(x, y)))\n"
   ]
  },
  {
   "cell_type": "code",
   "execution_count": 134,
   "metadata": {},
   "outputs": [
    {
     "data": {
      "text/plain": [
       "'While there is a very strong relationship between the number of people you invite and those who attend, the slope being less than 1 indicates that, on average, fewer people attend as you invite more. This supports your suspicion to some extent, but the relationship is still quite strong (as indicated by the high R²).'"
      ]
     },
     "execution_count": 134,
     "metadata": {},
     "output_type": "execute_result"
    }
   ],
   "source": [
    "\"\"\"While there is a very strong relationship between the number of people you invite and those who attend, the slope being less than 1 indicates that, on average, fewer people attend as you invite more. This supports your suspicion to some extent, but the relationship is still quite strong (as indicated by the high R²).\"\"\""
   ]
  },
  {
   "cell_type": "markdown",
   "metadata": {},
   "source": [
    "Do you see any problematic points, or outliers, in your data? Remove these points and recalculate your regression. Print the new dispersion diagram with your new model and the results of your model. "
   ]
  },
  {
   "cell_type": "code",
   "execution_count": 135,
   "metadata": {},
   "outputs": [
    {
     "data": {
      "text/plain": [
       "'Looking at the scatter plot, it appears that the point where 14 people were invited and 13 attended is a bit higher than expected, potentially indicating it as an outlier.'"
      ]
     },
     "execution_count": 135,
     "metadata": {},
     "output_type": "execute_result"
    }
   ],
   "source": [
    "\"\"\"Looking at the scatter plot, it appears that the point where 14 people were invited and 13 attended is a bit higher than expected, potentially indicating it as an outlier.\"\"\""
   ]
  },
  {
   "cell_type": "code",
   "execution_count": 140,
   "metadata": {},
   "outputs": [
    {
     "data": {
      "image/png": "[encoded data removed]",
      "text/plain": [
       "<Figure size 640x480 with 1 Axes>"
      ]
     },
     "metadata": {},
     "output_type": "display_data"
    }
   ],
   "source": [
    "parties_cleaned=parties.copy().drop([7],axis=0) \n",
    "\n",
    "x_cleaned = parties_cleaned[['X']]\n",
    "y_cleaned = parties_cleaned['Y']\n",
    "\n",
    "result = model.fit(x_cleaned,y_cleaned)\n",
    "\n",
    "regression_line = result.intercept_ + result.coef_[0]*x_cleaned\n",
    "plt.plot(x_cleaned,regression_line, color='orange',label='Fitted Line')\n",
    "plt.scatter(x_cleaned,y_cleaned,c='blue',marker='*',label='Data without Outlier')\n",
    "plt.xlabel('X')\n",
    "plt.ylabel('Y')\n",
    "plt.title('Scatter Plot with Linear Regression Line')\n",
    "plt.legend()\n",
    "plt.grid(True)\n",
    "plt.show()\n",
    "\n",
    "y_pred = result.predict(x_cleaned)\n",
    "\n"
   ]
  },
  {
   "cell_type": "code",
   "execution_count": 141,
   "metadata": {},
   "outputs": [
    {
     "name": "stdout",
     "output_type": "stream",
     "text": [
      "Coefficients:0.6842105263157895\n",
      "Intercept:0.32330827067669166\n",
      "Mean squared error (MSE):0.3050483351235232\n",
      "Coefficient of determination (R²):0.9433811802232854\n"
     ]
    }
   ],
   "source": [
    "new_y_pred = result.predict(x_cleaned)\n",
    "\n",
    "print(\"Coefficients:{}\".format(result.coef_[0]))\n",
    "print(\"Intercept:{}\".format(result.intercept_))\n",
    "print(\"Mean squared error (MSE):{}\".format(mean_squared_error(y_cleaned, new_y_pred)))\n",
    "print(\"Coefficient of determination (R²):{}\".format(result.score(x_cleaned, y_cleaned)))\n"
   ]
  },
  {
   "cell_type": "markdown",
   "metadata": {},
   "source": [
    "What changed? Based on the results of the two models and your graphs, what can you say about the form of the data with the problematic point and without it?"
   ]
  },
  {
   "cell_type": "code",
   "execution_count": 168,
   "metadata": {},
   "outputs": [
    {
     "data": {
      "text/plain": [
       "'The outlier significantly affected the form and accuracy of your model. After removing it, the model better reflects the true relationship between the number of people invited and the number who attend, as evidenced by more reasonable coefficients, lower errors, and a slightly improved R² '"
      ]
     },
     "execution_count": 168,
     "metadata": {},
     "output_type": "execute_result"
    }
   ],
   "source": [
    "\"\"\"The outlier significantly affected the form and accuracy of your model. After removing it, the model better reflects the true relationship between the number of people invited and the number who attend, as evidenced by more reasonable coefficients, lower errors, and a slightly improved R² \"\"\""
   ]
  }
 ],
 "metadata": {
  "kernelspec": {
   "display_name": "Python 3 (ipykernel)",
   "language": "python",
   "name": "python3"
  },
  "language_info": {
   "codemirror_mode": {
    "name": "ipython",
    "version": 3
   },
   "file_extension": ".py",
   "mimetype": "text/x-python",
   "name": "python",
   "nbconvert_exporter": "python",
   "pygments_lexer": "ipython3",
   "version": "3.11.7"
  }
 },
 "nbformat": 4,
 "nbformat_minor": 2
}
